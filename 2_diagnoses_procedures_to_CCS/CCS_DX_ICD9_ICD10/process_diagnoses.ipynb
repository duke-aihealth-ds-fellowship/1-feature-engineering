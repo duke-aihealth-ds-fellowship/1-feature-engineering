{
 "cells": [
  {
   "cell_type": "markdown",
   "id": "a9e2eda1",
   "metadata": {},
   "source": [
    "This code will add a column of CCS category to your data, corresponding to the ICD codes and their type (ICD9 or ICD10)."
   ]
  },
  {
   "cell_type": "code",
   "execution_count": null,
   "id": "d4633001",
   "metadata": {},
   "outputs": [],
   "source": [
    "import pandas as pd\n",
    "import numpy as np\n",
    "import sys, os\n",
    "MAIN_DIR = os.path.expanduser('P:/xxx') # Your main directory\n",
    "DATA_DIR = os.path.join(MAIN_DIR, 'crdm') # Your data directory\n",
    "OUT_DIR  = os.path.join(MAIN_DIR, 'processed') # Your output directory\n",
    "MAP_DIR  = os.path.expanduser('P:/xxx/ccs') # Your mapping file directory"
   ]
  },
  {
   "cell_type": "code",
   "execution_count": null,
   "id": "47558a18",
   "metadata": {},
   "outputs": [],
   "source": [
    "print('Loading ICD Diagnoses')\n",
    "filename = 'diagnoses.csv'\n",
    "icd = pd.read_csv(os.path.join(DATA_DIR, filename),\n",
    "    usecols=['PATID', 'DX_DATE', 'DX', 'DX_TYPE'], dtype=str)\n",
    "\n",
    "print(icd.shape)\n",
    "icd.head()"
   ]
  },
  {
   "cell_type": "code",
   "execution_count": null,
   "id": "d521a97a",
   "metadata": {},
   "outputs": [],
   "source": [
    "print('Finding CCS Categories for ICD Diagnoses')\n",
    "import sys\n",
    "sys.path.insert(0,MAP_DIR) # insert path of your ccs code\n",
    "\n",
    "from importlib import reload\n",
    "import ccs; reload(ccs); \n",
    "# Above lines are needed to refresh ccs if there are changes\n",
    "from ccs import append_ccs_dx"
   ]
  },
  {
   "cell_type": "code",
   "execution_count": null,
   "id": "c7962e81",
   "metadata": {},
   "outputs": [],
   "source": [
    "# add a column of 'CCS CATEGORY' and 'CCS CATEGORY UP'\n",
    "# 'CCS CATEGORY UP' maps ICD code before dot (i.e. upper level)\n",
    "icd = append_ccs_dx(icd, multilevel=False) \n",
    "assert icd['CCS CATEGORY'].isna().sum() == 0 # There should be no NA in CCS CATEGORY"
   ]
  },
  {
   "cell_type": "code",
   "execution_count": null,
   "id": "b2ce693d",
   "metadata": {},
   "outputs": [],
   "source": [
    "# replace CCS CATEGORY with CCS CATEGORY UP if it is 0\n",
    "icd['CCS CATEGORY'] = np.where(icd['CCS CATEGORY'] == 0, icd['CCS CATEGORY UP'], icd['CCS CATEGORY'])\n",
    "\n",
    "# See cases where no match was found\n",
    "num_non_matches = (icd['CCS CATEGORY'] == 0).sum()\n",
    "\n",
    "# Calculate the percentage of non-matches over all rows\n",
    "total_rows = icd.shape[0]\n",
    "percentage_non_matches = (num_non_matches / total_rows) * 100\n",
    "\n",
    "# Print the desired output format\n",
    "print(f'Number of non-matches = {num_non_matches} / {total_rows} ({percentage_non_matches:.2f}%)')\n",
    "# see examples of non-matches\n",
    "icd[icd['CCS CATEGORY'] == 0]\n",
    "\n",
    "# About 1% missingness in my case, acceptable"
   ]
  },
  {
   "cell_type": "code",
   "execution_count": null,
   "id": "5e700472",
   "metadata": {},
   "outputs": [],
   "source": [
    "# SAVE RESULTS\n",
    "print('Saving Results')\n",
    "frame = icd\n",
    "frame[['PATID', 'CCS CATEGORY']].to_csv(OUT_DIR + '/' + filename, index=False)"
   ]
  }
 ],
 "metadata": {
  "kernelspec": {
   "display_name": "Python 3 (ipykernel)",
   "language": "python",
   "name": "python3"
  },
  "language_info": {
   "codemirror_mode": {
    "name": "ipython",
    "version": 3
   },
   "file_extension": ".py",
   "mimetype": "text/x-python",
   "name": "python",
   "nbconvert_exporter": "python",
   "pygments_lexer": "ipython3",
   "version": "3.9.12"
  }
 },
 "nbformat": 4,
 "nbformat_minor": 5
}
