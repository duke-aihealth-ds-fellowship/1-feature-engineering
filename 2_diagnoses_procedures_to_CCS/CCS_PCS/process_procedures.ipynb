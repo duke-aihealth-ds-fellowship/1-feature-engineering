{
 "cells": [
  {
   "cell_type": "markdown",
   "id": "d8a66672",
   "metadata": {},
   "source": [
    "This code will add a column of 'CCS category' to your data, corresponding to the CPT codes."
   ]
  },
  {
   "cell_type": "code",
   "execution_count": null,
   "id": "1c05623b",
   "metadata": {},
   "outputs": [],
   "source": [
    "import pandas as pd\n",
    "import numpy as np\n",
    "import sys, os\n",
    "MAIN_DIR = os.path.expanduser('P:/xxx') # Your main directory\n",
    "DATA_DIR = os.path.join(MAIN_DIR, 'crdm') # Your data directory\n",
    "OUT_DIR  = os.path.join(MAIN_DIR, 'processed') # Your output directory\n",
    "MAP_DIR  = os.path.expanduser('P:/xxx/ccs') # Your mapping file directory"
   ]
  },
  {
   "cell_type": "code",
   "execution_count": null,
   "id": "dac33178",
   "metadata": {},
   "outputs": [],
   "source": [
    "print('Loading Cohort')\n",
    "pt = pd.read_csv(os.path.join(DATA_DIR, 'cohort_summary.csv'))\n",
    "\n",
    "print('Loading Procedures')\n",
    "px = pd.read_csv(os.path.join(DATA_DIR, 'procedure.csv'),\n",
    "                 usecols=['PATID', 'PX_DATE', 'PX']) \n",
    "# make sure you have PX column for CPT code"
   ]
  },
  {
   "cell_type": "code",
   "execution_count": null,
   "id": "60901723",
   "metadata": {},
   "outputs": [],
   "source": [
    "# Use 1-CPT-per-line mapping file to look for PX match\n",
    "print('Finding CCS Categories for CPT Procedures')\n",
    "cpt_ccs_column_names = [\"CPT CODE\", \"CCS CATEGORY\", \"CCS DESCRIPTION\"]\n",
    "cpt_ccs = pd.read_csv(\n",
    "     os.path.join(MAP_DIR,'cpt_ccs_mapping_v2022-1.csv'),\n",
    "                  names=cpt_ccs_column_names,\n",
    "    skiprows=1  # Skip the header row since column names are provided\n",
    ")\n",
    "cpt_ccs['CCS CATEGORY'] = cpt_ccs['CCS CATEGORY'].astype(str) # so it is not treated as integer which add .0 to the end\n",
    "merged_df = px.merge(cpt_ccs, how='left', left_on='PX', right_on='CPT CODE')\n",
    "\n",
    "# Create a new column \"CCS_PX\" in the px DataFrame with the values from \"CCS CATEGORY\"\n",
    "px['CCS_PX'] = merged_df['CCS CATEGORY'].fillna(0)\n",
    "assert px['CCS_PX'].isna().sum() == 0 # Should not have NAs since we filled them with 0\n",
    "px"
   ]
  },
  {
   "cell_type": "code",
   "execution_count": null,
   "id": "e9febebb",
   "metadata": {},
   "outputs": [],
   "source": [
    "# Check cases where no match was found (CCS_PX==0)\n",
    "num_non_matches = (px['CCS_PX'] == 0).sum()\n",
    "\n",
    "# Calculate the percentage of non-matches over all rows\n",
    "total_rows = px.shape[0]\n",
    "percentage_non_matches = (num_non_matches / total_rows) * 100\n",
    "\n",
    "# Print the desired output format\n",
    "print(f'Number of non-matches = {num_non_matches} /{total_rows} ({percentage_non_matches:.2f}%)')\n",
    "px[px['CCS_PX'] == 0]\n",
    "\n",
    "# I have 2-3% non-matches, acceptable.  "
   ]
  },
  {
   "cell_type": "code",
   "execution_count": null,
   "id": "2301c6ab",
   "metadata": {},
   "outputs": [],
   "source": [
    "# SAVE RESULTS\n",
    "print('Saving Results')\n",
    "filename = 'procedures.csv'\n",
    "frame = px\n",
    "frame = frame.merge(pt[['PATID', 'BIRTH_DATE','ENC_DATE']], how='left')\n",
    "frame[['PATID', 'CCS_PX']].to_csv(OUT_DIR + '/' + filename, index=False)"
   ]
  }
 ],
 "metadata": {
  "kernelspec": {
   "display_name": "Python 3 (ipykernel)",
   "language": "python",
   "name": "python3"
  },
  "language_info": {
   "codemirror_mode": {
    "name": "ipython",
    "version": 3
   },
   "file_extension": ".py",
   "mimetype": "text/x-python",
   "name": "python",
   "nbconvert_exporter": "python",
   "pygments_lexer": "ipython3",
   "version": "3.9.12"
  }
 },
 "nbformat": 4,
 "nbformat_minor": 5
}
